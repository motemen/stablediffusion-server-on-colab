{
  "nbformat": 4,
  "nbformat_minor": 0,
  "metadata": {
    "colab": {
      "name": "Stable Diffusion Server on Colab",
      "provenance": [],
      "collapsed_sections": [],
      "authorship_tag": "ABX9TyN4Tks1Wszu2EYwsBE6dNAk",
      "include_colab_link": true
    },
    "kernelspec": {
      "name": "python3",
      "display_name": "Python 3"
    },
    "language_info": {
      "name": "python"
    },
    "accelerator": "GPU",
    "gpuClass": "standard"
  },
  "cells": [
    {
      "cell_type": "markdown",
      "metadata": {
        "id": "view-in-github",
        "colab_type": "text"
      },
      "source": [
        "<a href=\"https://colab.research.google.com/github/motemen/stablediffusion-server-on-colab/blob/main/Stable_Diffusion_Server_on_Colab.ipynb\" target=\"_parent\"><img src=\"https://colab.research.google.com/assets/colab-badge.svg\" alt=\"Open In Colab\"/></a>"
      ]
    },
    {
      "cell_type": "markdown",
      "source": [
        "# Stable Diffusion Server on Colab\n",
        "\n",
        "This notebook serves a simple [Stable Diffusion](https://huggingface.co/blog/stable_diffusion) server upon Google Colaboratry for ease of generation tries."
      ],
      "metadata": {
        "id": "9fwwtCIXgkzw"
      }
    },
    {
      "cell_type": "markdown",
      "source": [
        "## Code Setup"
      ],
      "metadata": {
        "id": "PRUZOFK1gWpF"
      }
    },
    {
      "cell_type": "code",
      "execution_count": null,
      "metadata": {
        "id": "Wa5RXeo0fw8A"
      },
      "outputs": [],
      "source": [
        "!git clone https://github.com/motemen/stablediffusion-server-on-colab"
      ]
    },
    {
      "cell_type": "code",
      "source": [
        "%cd stablediffusion-server-on-colab"
      ],
      "metadata": {
        "id": "3y7qwzJNf5th"
      },
      "execution_count": null,
      "outputs": []
    },
    {
      "cell_type": "code",
      "source": [
        "!pip install -r requirements.txt"
      ],
      "metadata": {
        "id": "Pz8V5t27f7PG"
      },
      "execution_count": null,
      "outputs": []
    },
    {
      "cell_type": "code",
      "source": [
        "!npm install"
      ],
      "metadata": {
        "id": "ERO31DRqf9Gw"
      },
      "execution_count": null,
      "outputs": []
    },
    {
      "cell_type": "code",
      "source": [
        "!npm run build"
      ],
      "metadata": {
        "id": "GPeSb4FviqCZ"
      },
      "execution_count": null,
      "outputs": []
    },
    {
      "cell_type": "markdown",
      "source": [
        "## Configuration"
      ],
      "metadata": {
        "id": "SbSbtDcwgS_Q"
      }
    },
    {
      "cell_type": "code",
      "source": [
        "huggingface_token = \"\" # @param {\"type\":\"string\"}"
      ],
      "metadata": {
        "id": "3t1dYF3ygBo3"
      },
      "execution_count": null,
      "outputs": []
    },
    {
      "cell_type": "code",
      "source": [
        "port = 5000"
      ],
      "metadata": {
        "id": "SbGN4x9JgIL5"
      },
      "execution_count": null,
      "outputs": []
    },
    {
      "cell_type": "markdown",
      "source": [
        "## Start Server"
      ],
      "metadata": {
        "id": "DlkNI-p5gZwN"
      }
    },
    {
      "cell_type": "code",
      "source": [
        "from google.colab import output\n",
        "output.serve_kernel_port_as_window(port)"
      ],
      "metadata": {
        "id": "xBP9CsHigOeV"
      },
      "execution_count": null,
      "outputs": []
    },
    {
      "cell_type": "code",
      "source": [
        "!HF_TOKEN=\"$huggingface_token\" flask run --port $port"
      ],
      "metadata": {
        "id": "05Qy_9C4gJcS"
      },
      "execution_count": null,
      "outputs": []
    }
  ]
}